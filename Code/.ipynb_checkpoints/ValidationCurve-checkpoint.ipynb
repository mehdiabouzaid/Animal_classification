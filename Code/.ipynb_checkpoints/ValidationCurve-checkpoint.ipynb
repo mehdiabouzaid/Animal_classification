{
 "cells": [
  {
   "cell_type": "markdown",
   "metadata": {},
   "source": [
    "# Imports"
   ]
  },
  {
   "cell_type": "code",
   "execution_count": 5,
   "metadata": {},
   "outputs": [],
   "source": [
    "from numpy import linspace\n",
    "from numpy import maximum\n",
    "import matplotlib.pyplot as plt\n",
    "import matplotlib.lines as mlines\n",
    "from numpy import array"
   ]
  },
  {
   "cell_type": "code",
   "execution_count": 6,
   "metadata": {},
   "outputs": [],
   "source": [
    "axis = list(range(1,4,1))"
   ]
  },
  {
   "cell_type": "code",
   "execution_count": 7,
   "metadata": {},
   "outputs": [],
   "source": [
    "Xception_2Epoch_WithDropout = array([0.3588, 0.3661, 0.3609])\n",
    "VGG16_2Epoch_WithDropout = array([0.9741, 0.9835, 0.9824])\n",
    "ResNet50_2Epoch_WithDropout = array([0.9659, 0.9700, 0.9721])"
   ]
  },
  {
   "cell_type": "code",
   "execution_count": 8,
   "metadata": {},
   "outputs": [],
   "source": [
    "Xception_10Epoch_WithDropout = array([0.3909, 0.3433, 0.3454])\n",
    "VGG16_10Epoch_WithDropout = array([0.9824, 0.9855, 0.9824])\n",
    "ResNet50_10Epoch_WithDropout = array([0.9731, 0.9741, 0.9731])"
   ]
  },
  {
   "cell_type": "code",
   "execution_count": 9,
   "metadata": {},
   "outputs": [],
   "source": [
    "Xception_2Epoch_WithoutDropout = array([0.4116, 0.4012, 0.4012])\n",
    "VGG16_2Epoch_WithoutDropout = array([0.9762, 0.9845, 0.9866])\n",
    "ResNet50_2Epoch_WithoutDropout = array([0.9690, 0.9690, 0.9659])"
   ]
  },
  {
   "cell_type": "code",
   "execution_count": 10,
   "metadata": {},
   "outputs": [],
   "source": [
    "Xception_10Epoch_WithoutDropout = array([0.4199, 0.3899, 0.3733])\n",
    "VGG16_10Epoch_WithoutDropout = array([0.9814, 0.9814, 0.9814])\n",
    "ResNet50_10Epoch_WithoutDropout = array([0.9710, 0.9710, 0.9710])"
   ]
  },
  {
   "cell_type": "markdown",
   "metadata": {},
   "source": [
    "# Plot"
   ]
  },
  {
   "cell_type": "code",
   "execution_count": 15,
   "metadata": {},
   "outputs": [
    {
     "data": {
      "image/png": "[encoded data removed]",
      "text/plain": [
       "<Figure size 1800x1800 with 1 Axes>"
      ]
     },
     "metadata": {
      "needs_background": "light"
     },
     "output_type": "display_data"
    }
   ],
   "source": [
    "figure = plt.figure(figsize=(25,25))\n",
    "\n",
    "plot1 = plt.subplot(4,4,1)\n",
    "plt.plot(axis,Xception_2Epoch_WithDropout)\n",
    "plt.plot(axis,VGG16_2Epoch_WithDropout)\n",
    "plt.plot(axis,ResNet50_2Epoch_WithDropout)\n",
    "plt.grid(color='gray', linestyle='-', linewidth=0.5)\n",
    "plt.title('')\n",
    "plt.xlabel('')\n",
    "plt.ylabel('Validation Accuracy')\n",
    "plot1.set_xticks(axis)\n",
    "\n",
    "# Légende\n",
    "symbol1 = mlines.Line2D([], [], color='b', marker='', linestyle='solid',\n",
    "                          markersize=10, label='Xception')\n",
    "symbol2 = mlines.Line2D([], [], color='r', marker='', linestyle='solid',\n",
    "                          markersize=10, label='VGG16')\n",
    "symbol3 = mlines.Line2D([], [], color='g', marker='', linestyle='solid',\n",
    "                          markersize=10, label='ResNet50')\n",
    "plot1.legend(handles=[symbol1, symbol2, symbol3])\n",
    "\n",
    "plt.show()"
   ]
  },
  {
   "cell_type": "markdown",
   "metadata": {},
   "source": [
    "# Save plot"
   ]
  },
  {
   "cell_type": "code",
   "execution_count": 12,
   "metadata": {},
   "outputs": [],
   "source": [
    "figure.savefig('../Presentation/Images/Plot/ReLU_bias.eps', format='eps', dpi=1000, bbox_inches='tight')"
   ]
  }
 ],
 "metadata": {
  "kernelspec": {
   "display_name": "Python 3",
   "language": "python",
   "name": "python3"
  },
  "language_info": {
   "codemirror_mode": {
    "name": "ipython",
    "version": 3
   },
   "file_extension": ".py",
   "mimetype": "text/x-python",
   "name": "python",
   "nbconvert_exporter": "python",
   "pygments_lexer": "ipython3",
   "version": "3.6.7"
  }
 },
 "nbformat": 4,
 "nbformat_minor": 2
}
